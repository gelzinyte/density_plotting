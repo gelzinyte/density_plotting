{
 "cells": [
  {
   "cell_type": "code",
   "execution_count": 2,
   "id": "1defc1b3",
   "metadata": {},
   "outputs": [
    {
     "name": "stderr",
     "output_type": "stream",
     "text": [
      "┌ Info: Precompiling ASE [51974c44-a7ed-5088-b8be-3e78c8ba416c]\n",
      "└ @ Base loading.jl:1317\n",
      "┌ Info: Skipping precompilation since __precompile__(false). Importing ASE [51974c44-a7ed-5088-b8be-3e78c8ba416c].\n",
      "└ @ Base loading.jl:1025\n"
     ]
    }
   ],
   "source": [
    "using Pkg\n",
    "Pkg.activate(\".\")\n",
    "\n",
    "using Plots\n",
    "using ASE\n",
    "using JuLIP"
   ]
  },
  {
   "cell_type": "code",
   "execution_count": 3,
   "id": "a5db8600",
   "metadata": {},
   "outputs": [
    {
     "data": {
      "text/plain": [
       "read_file (generic function with 1 method)"
      ]
     },
     "execution_count": 3,
     "metadata": {},
     "output_type": "execute_result"
    }
   ],
   "source": [
    "\n",
    "\n",
    "function unflatten(flat_array; shape=(40, 40, 40))\n",
    "    return permutedims(reshape(flat_array, shape), [3, 2, 1])\n",
    "end\n",
    "\n",
    "function integrate(data; step=40)\n",
    "    output=zeros(0)\n",
    "    for idx in 1:step\n",
    "        slice = data[idx,:,:]\n",
    "        append!(output, sum(slice))\n",
    "    end\n",
    "    return output\n",
    "end\n",
    "\n",
    "function convert_axis(origin, axes; which_axis=1, dimensions=(40, 40, 40))\n",
    "    range = Array(1:dimensions[which_axis])\n",
    "    # cannot do shearing \n",
    "    scaled = range * axes[which_axis][which_axis]\n",
    "#     println(origin[which_axis])\n",
    "    shifted = [x + origin[which_axis] - axes[which_axis][which_axis] for x in scaled]\n",
    "    return shifted\n",
    "end\n",
    "\n",
    "function read_file(fliename)\n",
    "\n",
    "    file = readlines(filename)\n",
    "\n",
    "    # two lines of comments\n",
    "    # third line: number of atoms (int) and origin (3 x float)\n",
    "    n_atoms = parse(Int64, split(file[3])[1])\n",
    "    origin = parse.(Float64, split(file[3])[2:4])\n",
    "\n",
    "    # fourth-sixth lines - number of voxels along each axis and the axis. \n",
    "    # Take only number of voxels (for now?)    \n",
    "    dens_shape = Tuple([parse(Int64, split(file[i])[1]) for i in 4:6])\n",
    "    axes = [parse.(Float64, split(file[i])[2:4]) for i in 4:6]\n",
    "\n",
    "    # `n_atoms` of geometry data\n",
    "    numbers = [parse(Int64, split(file[i])[1]) for i in 7:6+n_atoms]\n",
    "    pos = [parse.(Float64, split(file[i])[3:5]) for i in 7:6+n_atoms]\n",
    "    atoms = Atoms(X=pos, Z=numbers)\n",
    "\n",
    "    # density data starts after `n_atoms` lines of geometry data\n",
    "    flat_values=zeros(0)\n",
    "    for line in file[7+n_atoms:end]\n",
    "        numbers = parse.(Float64, split(line))\n",
    "        append!(flat_values, numbers)\n",
    "    end\n",
    "\n",
    "    density = unflatten(flat_values, shape=dens_shape);\n",
    "\n",
    "    return origin, axes, atoms, density, dens_shape\n",
    "\n",
    "end"
   ]
  },
  {
   "cell_type": "code",
   "execution_count": 6,
   "id": "46e7829b",
   "metadata": {},
   "outputs": [],
   "source": [
    "filename = \"HC30H.singlet_opt.uks_def2-svp_opt.dlpno-ccsd_cc-pvdz.singlet.eldens.200x200x200.cube\"\n",
    "\n",
    "pic_fname = replace(filename, \".cube\" => \".pdf\")\n",
    "\n",
    "title = split(filename, \"/\")[end]\n",
    "origin, axes, atoms, el_density, dens_shape = read_file(filename)\n",
    "integral = integrate(el_density, step=dens_shape[1])\n",
    "\n",
    "\n",
    "x_vals = convert_axis(origin, axes, dimensions=dens_shape)\n",
    "at_pos = [atoms.X[i][1] for i in 1:32 if atoms.Z[i] == 6]\n",
    "plot(x_vals, integral, label=\"xy-integrated density\", lw=2)\n",
    "# ylims!(0, 6)\n",
    "# title!(title, titlefontsize=8)\n",
    "vline!(at_pos, label=\"Carbon atoms' positions\")\n",
    "xlabel!(\"z coordinate\")\n",
    "# ylabel!(\"\")\n",
    "# savefig(\"density_example.pdf\")\n",
    "savefig(pic_fname)"
   ]
  },
  {
   "cell_type": "code",
   "execution_count": 9,
   "id": "b7cd996a",
   "metadata": {},
   "outputs": [
    {
     "data": {
      "text/plain": [
       "7-element Vector{String}:\n",
       " \"eldens.cube\"\n",
       " \"out.dat\"\n",
       " \"plot_template_density_cross_section.vmd\"\n",
       " \"plot_template_isosurfaces.vmd\"\n",
       " \"plot_template_isosurfaces_eldens.vmd\"\n",
       " \"plot_template_isosurfaces_spindens.vmd\"\n",
       " \"spindens.cube\""
      ]
     },
     "execution_count": 9,
     "metadata": {},
     "output_type": "execute_result"
    }
   ],
   "source": [
    "readdir(\"../test_plots\")"
   ]
  },
  {
   "cell_type": "code",
   "execution_count": null,
   "id": "fe2f95a7",
   "metadata": {},
   "outputs": [],
   "source": []
  },
  {
   "cell_type": "code",
   "execution_count": null,
   "id": "4544c5b8",
   "metadata": {},
   "outputs": [],
   "source": []
  }
 ],
 "metadata": {
  "kernelspec": {
   "display_name": "Julia 1.6.1",
   "language": "julia",
   "name": "julia-1.6"
  },
  "language_info": {
   "file_extension": ".jl",
   "mimetype": "application/julia",
   "name": "julia",
   "version": "1.6.1"
  }
 },
 "nbformat": 4,
 "nbformat_minor": 5
}
