{
 "cells": [
  {
   "cell_type": "code",
   "execution_count": 1,
   "id": "ca02f432",
   "metadata": {},
   "outputs": [],
   "source": [
    "import numpy as np\n",
    "import matplotlib.pyplot as plt\n"
   ]
  },
  {
   "cell_type": "code",
   "execution_count": 13,
   "id": "92556e55",
   "metadata": {},
   "outputs": [],
   "source": [
    "grid_points = np.array([200, 250, 300, 400])\n",
    "time = np.array([948/2, 897, 1543, 4667])\n",
    "x = np.log(grid_points)\n",
    "y = np.log(time)"
   ]
  },
  {
   "cell_type": "code",
   "execution_count": 15,
   "id": "7d165eca",
   "metadata": {},
   "outputs": [
    {
     "data": {
      "image/png": "[encoded data removed]",
      "text/plain": [
       "<Figure size 432x288 with 1 Axes>"
      ]
     },
     "metadata": {
      "needs_background": "light"
     },
     "output_type": "display_data"
    }
   ],
   "source": [
    "plt.figure()\n",
    "plt.scatter(x, y)\n",
    "plt.plot(x, np.poly1d(np.polyfit(x, y, 1))(x))\n",
    "plt.grid(color='lightgrey')\n",
    "plt.ylabel('time, s')\n",
    "plt.xlabel('number of grid points')\n",
    "# plt.yscale('log')\n",
    "# plt.xscale('log')\n",
    "plt.show()\n"
   ]
  },
  {
   "cell_type": "code",
   "execution_count": 16,
   "id": "74e8afa6",
   "metadata": {},
   "outputs": [
    {
     "data": {
      "text/plain": [
       "7.9"
      ]
     },
     "execution_count": 16,
     "metadata": {},
     "output_type": "execute_result"
    }
   ],
   "source": [
    "948/2/60\n"
   ]
  },
  {
   "cell_type": "code",
   "execution_count": 17,
   "id": "d8f5eee8",
   "metadata": {},
   "outputs": [
    {
     "data": {
      "text/plain": [
       "77.78333333333333"
      ]
     },
     "execution_count": 17,
     "metadata": {},
     "output_type": "execute_result"
    }
   ],
   "source": [
    "4667/60\n"
   ]
  },
  {
   "cell_type": "code",
   "execution_count": null,
   "id": "30f66366",
   "metadata": {},
   "outputs": [],
   "source": []
  }
 ],
 "metadata": {
  "kernelspec": {
   "display_name": "Python 3",
   "language": "python",
   "name": "python3"
  },
  "language_info": {
   "codemirror_mode": {
    "name": "ipython",
    "version": 3
   },
   "file_extension": ".py",
   "mimetype": "text/x-python",
   "name": "python",
   "nbconvert_exporter": "python",
   "pygments_lexer": "ipython3",
   "version": "3.8.5"
  }
 },
 "nbformat": 4,
 "nbformat_minor": 5
}
